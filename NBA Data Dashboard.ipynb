{
 "cells": [
  {
   "cell_type": "markdown",
   "metadata": {},
   "source": [
    "### Instructions for Running Notebook\n",
    "\n",
    "Click Cell -> Run All. Click on local IP in final cell. Now you can view/use Dashboard."
   ]
  },
  {
   "cell_type": "code",
   "execution_count": 1,
   "metadata": {},
   "outputs": [],
   "source": [
    "# pip install dash\n",
    "import pandas as pd\n",
    "import plotly.express as px\n",
    "import plotly.graph_objects as go\n",
    "import dash\n",
    "import dash_core_components as dcc\n",
    "import dash_html_components as html\n",
    "from dash.dependencies import Input, Output"
   ]
  },
  {
   "cell_type": "code",
   "execution_count": 2,
   "metadata": {},
   "outputs": [],
   "source": [
    "# Load csv shot distribution data\n",
    "all_teams_df = pd.read_csv('nba_shooting_data_19-20.csv')\n",
    "# Load stylesheet for Dashboard\n",
    "external_stylesheets = ['https://codepen.io/chriddyp/pen/bWLwgP.css']"
   ]
  },
  {
   "cell_type": "code",
   "execution_count": 3,
   "metadata": {},
   "outputs": [],
   "source": [
    "#formatting for chart\n",
    "def clean_chart_format(fig):\n",
    "    fig.update_layout(\n",
    "        paper_bgcolor=\"white\",\n",
    "        plot_bgcolor=\"white\",\n",
    "        margin=dict(\n",
    "            t=20\n",
    "        )\n",
    "    )\n",
    "    fig.update_traces(marker=dict(line=dict(width=1, color='Navy')),\n",
    "                      selector=dict(mode='markers'))\n",
    "    fig.update_coloraxes(\n",
    "        colorbar=dict(\n",
    "            thicknessmode=\"pixels\", thickness=15,\n",
    "            outlinewidth=1,\n",
    "            outlinecolor='#909090',\n",
    "            lenmode=\"pixels\", len=300,\n",
    "            yanchor=\"top\",\n",
    "            y=1,\n",
    "        ))\n",
    "    fig.update_yaxes(showgrid=True, gridwidth=1, tickson='boundaries', gridcolor='LightGray', fixedrange=True)\n",
    "    fig.update_xaxes(showgrid=True, gridwidth=1, gridcolor='LightGray', fixedrange=True)\n",
    "    return True"
   ]
  },
  {
   "cell_type": "code",
   "execution_count": 4,
   "metadata": {},
   "outputs": [],
   "source": [
    "def makeshotchart(input_df, color_continuous_scale=None, size_col='shts_total', col_col='acc', range_color=None):\n",
    "    max_bubble_size = 15\n",
    "    if color_continuous_scale is None:\n",
    "        color_continuous_scale = px.colors.diverging.RdYlBu_r\n",
    "    if range_color is None:\n",
    "        range_color = [min(input_df[col_col]), max(input_df[col_col])]\n",
    "\n",
    "    fig = px.scatter(\n",
    "        input_df, x='min_mid', y='player', size=size_col,\n",
    "        color=col_col,\n",
    "        color_continuous_scale=color_continuous_scale,\n",
    "        range_color=range_color,\n",
    "        range_x=[0, 49],\n",
    "        range_y=[-1, len(input_df.player.unique())],\n",
    "        hover_name='player', hover_data=['shts_perct', 'shts_freq'],\n",
    "        render_mode='svg'\n",
    "    )\n",
    "    fig.update_coloraxes(colorbar=dict(title='Points per 100 possessions'))\n",
    "    fig.update_traces(marker=dict(sizeref=2. * 30 / (max_bubble_size ** 2)))\n",
    "    fig.update_yaxes(title=\"Players\")\n",
    "    fig.update_xaxes(title='Minutes Played (Divide by 12 for Quarters)', tickvals=list(range(0, 54, 12)))\n",
    "\n",
    "    return fig"
   ]
  },
  {
   "cell_type": "code",
   "execution_count": 5,
   "metadata": {},
   "outputs": [],
   "source": [
    "app = dash.Dash(__name__, external_stylesheets = external_stylesheets)\n",
    "\n",
    "server = app.server\n",
    "\n",
    "app.title = 'NBA Shooting Dashboard per Minute by Team'\n",
    "team_names = all_teams_df.team.unique()\n",
    "team_names.sort()\n",
    "app.layout = html.Div([\n",
    "    html.Div([\n",
    "        dcc.Markdown(\n",
    "            \"\"\"\n",
    "            ### Shot Frequency & Efficiency for the 2019-20 NBA Season\n",
    "            \n",
    "            ##### Use the dropdown to select a team, the default 'Leaders' shows leaders from each team across the league.\n",
    "\n",
    "            This dashboard compares players using **shot frequency** (shts_freq) and **efficiency** (ppp) across a time series (48 minutes of an NBA game) using a bubble chart.\n",
    "            \n",
    "            The X axis is divided up into minutes, 48 minutes in a whole game. The Y axis are the players on each team and the size of the bubbles represents the frequency of shots taken.\n",
    "            \n",
    "            **Frequency**: Portion of shots taken by player relative to the rest of the team's shots, indicated by size. **Bigger** the bubble, the **more shots taken** during that time period. **Smaller** the bubble, the **less shots taken** during that time period.\n",
    "\n",
    "            **Efficiency**: Points per 100 possessions (ppp), indicated by color. **More red** is **better**, **more blue** is **worse**. \n",
    "            Hovering over the bubbles also gives you the shooting percentage (shts_perct). There's typically a correlation between a high shooting percentage and a high pts per 100 possessions.\n",
    "\n",
    "            Players with less than 1 percent of team shots are classified under 'Others'\n",
    "            \"\"\"\n",
    "        ),\n",
    "    ]),\n",
    "    html.Div([\n",
    "        dcc.Dropdown(\n",
    "            id='group-select',\n",
    "            options=[{'label': i, 'value': i} for i in team_names],\n",
    "            value='Leaders',\n",
    "            style={'width': '140px'}\n",
    "        )\n",
    "    ]),\n",
    "    dcc.Graph(\n",
    "        'bubble-chart',\n",
    "        config={'displayModeBar': False}\n",
    "    )\n",
    "])"
   ]
  },
  {
   "cell_type": "code",
   "execution_count": 6,
   "metadata": {},
   "outputs": [],
   "source": [
    "@app.callback(\n",
    "    Output('bubble-chart', 'figure'),\n",
    "    [Input('group-select', 'value')]\n",
    ")\n",
    "def update_graph(grpname):\n",
    "    fig = makeshotchart(all_teams_df[all_teams_df.team == grpname], col_col='ppp', range_color=[90, 120], size_col='shts_freq')\n",
    "    clean_chart_format(fig)\n",
    "    if len(grpname) > 3: \n",
    "        # Leaders chart size\n",
    "        fig.update_layout(height=950, width=1250)\n",
    "    else:\n",
    "        fig.update_layout(height=550, width=1250)\n",
    "\n",
    "    return fig"
   ]
  },
  {
   "cell_type": "code",
   "execution_count": 7,
   "metadata": {},
   "outputs": [
    {
     "name": "stdout",
     "output_type": "stream",
     "text": [
      " * Serving Flask app \"__main__\" (lazy loading)\n",
      " * Environment: production\n",
      "   WARNING: This is a development server. Do not use it in a production deployment.\n",
      "   Use a production WSGI server instead.\n",
      " * Debug mode: off\n"
     ]
    },
    {
     "name": "stderr",
     "output_type": "stream",
     "text": [
      " * Running on http://127.0.0.1:8050/ (Press CTRL+C to quit)\n",
      "127.0.0.1 - - [04/May/2020 17:52:12] \"\u001b[37mGET / HTTP/1.1\u001b[0m\" 200 -\n",
      "127.0.0.1 - - [04/May/2020 17:52:13] \"\u001b[37mGET /_dash-dependencies HTTP/1.1\u001b[0m\" 200 -\n",
      "127.0.0.1 - - [04/May/2020 17:52:13] \"\u001b[37mGET /_dash-layout HTTP/1.1\u001b[0m\" 200 -\n",
      "127.0.0.1 - - [04/May/2020 17:52:13] \"\u001b[37mPOST /_dash-update-component HTTP/1.1\u001b[0m\" 200 -\n"
     ]
    }
   ],
   "source": [
    "# Run Local Server \n",
    "if __name__ == '__main__':\n",
    "    app.run_server(debug=False)"
   ]
  },
  {
   "cell_type": "code",
   "execution_count": null,
   "metadata": {},
   "outputs": [],
   "source": []
  }
 ],
 "metadata": {
  "kernelspec": {
   "display_name": "Python 3",
   "language": "python",
   "name": "python3"
  },
  "language_info": {
   "codemirror_mode": {
    "name": "ipython",
    "version": 3
   },
   "file_extension": ".py",
   "mimetype": "text/x-python",
   "name": "python",
   "nbconvert_exporter": "python",
   "pygments_lexer": "ipython3",
   "version": "3.7.6"
  }
 },
 "nbformat": 4,
 "nbformat_minor": 4
}
