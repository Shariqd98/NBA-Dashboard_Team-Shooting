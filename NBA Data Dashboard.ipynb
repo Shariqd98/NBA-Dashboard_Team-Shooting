{
 "cells": [
  {
   "cell_type": "code",
   "execution_count": 31,
   "metadata": {},
   "outputs": [],
   "source": [
    "# pip install dash\n",
    "import pandas as pd\n",
    "import plotly.express as px\n",
    "import plotly.graph_objects as go\n",
    "import dash\n",
    "import dash_core_components as dcc\n",
    "import dash_html_components as html\n",
    "from dash.dependencies import Input, Output"
   ]
  },
  {
   "cell_type": "code",
   "execution_count": 64,
   "metadata": {},
   "outputs": [],
   "source": [
    "desired_width = 320\n",
    "pd.set_option('display.max_columns', 20)\n",
    "pd.set_option('display.width', desired_width)\n",
    "# Load csv shot distribution data\n",
    "all_teams_df = pd.read_csv('nba_shot_distribution_2019-20.csv')"
   ]
  },
  {
   "cell_type": "code",
   "execution_count": 63,
   "metadata": {},
   "outputs": [],
   "source": [
    "def clean_chart_format(fig):\n",
    "    fig.update_layout(\n",
    "        paper_bgcolor=\"white\",\n",
    "        plot_bgcolor=\"white\",\n",
    "        font=dict(\n",
    "            family=\"Arial, Tahoma, Helvetica\",\n",
    "            size=10,\n",
    "            color=\"#404040\"\n",
    "        ),\n",
    "        margin=dict(\n",
    "            t=20\n",
    "        )\n",
    "    )\n",
    "    fig.update_traces(marker=dict(line=dict(width=1, color='Navy')),\n",
    "                      selector=dict(mode='markers'))\n",
    "    fig.update_coloraxes(\n",
    "        colorbar=dict(\n",
    "            thicknessmode=\"pixels\", thickness=15,\n",
    "            outlinewidth=1,\n",
    "            outlinecolor='#909090',\n",
    "            lenmode=\"pixels\", len=300,\n",
    "            yanchor=\"top\",\n",
    "            y=1,\n",
    "        ))\n",
    "    fig.update_yaxes(showgrid=True, gridwidth=1, tickson='boundaries', gridcolor='LightGray', fixedrange=True)\n",
    "    fig.update_xaxes(showgrid=True, gridwidth=1, gridcolor='LightGray', fixedrange=True)\n",
    "    return True"
   ]
  },
  {
   "cell_type": "code",
   "execution_count": 59,
   "metadata": {},
   "outputs": [],
   "source": [
    "def make_shot_dist_chart(input_df, color_continuous_scale=None, size_col='shots_count', col_col='pl_acc', range_color=None):\n",
    "    max_bubble_size = 15\n",
    "    if color_continuous_scale is None:\n",
    "        color_continuous_scale = px.colors.diverging.RdYlBu_r\n",
    "    if range_color is None:\n",
    "        range_color = [min(input_df[col_col]), max(input_df[col_col])]\n",
    "\n",
    "    fig = px.scatter(\n",
    "        input_df, x='min_mid', y='player', size=size_col,\n",
    "        color=col_col,\n",
    "        color_continuous_scale=color_continuous_scale,\n",
    "        range_color=range_color,\n",
    "        range_x=[0, 49],\n",
    "        range_y=[-1, len(input_df.player.unique())],\n",
    "        hover_name='player', hover_data=['min_start', 'min_end', 'shots_count', 'shots_made', 'shots_freq', 'shots_acc', ],\n",
    "        render_mode='svg'\n",
    "    )\n",
    "    fig.update_coloraxes(colorbar=dict(title='Points per<BR>100 shots'))\n",
    "    fig.update_traces(marker=dict(sizeref=2. * 30 / (max_bubble_size ** 2)))\n",
    "    fig.update_yaxes(title=\"Player\")\n",
    "    fig.update_xaxes(title='Minute', tickvals=list(range(0, 54, 6)))\n",
    "\n",
    "    return fig"
   ]
  },
  {
   "cell_type": "code",
   "execution_count": 60,
   "metadata": {},
   "outputs": [],
   "source": [
    "app = dash.Dash(__name__)\n",
    "\n",
    "server = app.server\n",
    "\n",
    "app.title = 'NBA Shooting Dashboard per Minute'\n",
    "team_names = all_teams_df.group.unique()\n",
    "team_names.sort()\n",
    "app.layout = html.Div([\n",
    "    html.Div([\n",
    "        dcc.Markdown(\n",
    "            \"\"\"\n",
    "            #### Shot Frequencies & Efficiencies (2019-20 NBA Season)\n",
    "\n",
    "            This page compares players based on shot *frequency* and *efficiency*, \n",
    "            divided up into minutes of regulation time for each team.\n",
    "\n",
    "            Use the pulldown to select a team, or select 'Leaders' to see leaders from each team.\n",
    "\n",
    "\n",
    "            *Notes*:\n",
    "\n",
    "            * **Frequency**: A team's shots a player is taking, indicated by **size**.\n",
    "\n",
    "            * **Efficiency**: Points scored per 100 shots, indicated by **colour** (red == better, blue == worse).\n",
    "\n",
    "            * Players with <1% of team shots are shown under 'Others'\n",
    "            \"\"\"\n",
    "        ),\n",
    "    ]),\n",
    "    html.Div([\n",
    "        dcc.Dropdown(\n",
    "            id='group-select',\n",
    "            options=[{'label': i, 'value': i} for i in team_names],\n",
    "            value='TOR',\n",
    "            style={'width': '140px'}\n",
    "        )\n",
    "    ]),\n",
    "    dcc.Graph(\n",
    "        'shot-dist-graph',\n",
    "        config={'displayModeBar': False}\n",
    "    )\n",
    "])"
   ]
  },
  {
   "cell_type": "code",
   "execution_count": 61,
   "metadata": {},
   "outputs": [],
   "source": [
    "@app.callback(\n",
    "    Output('shot-dist-graph', 'figure'),\n",
    "    [Input('group-select', 'value')]\n",
    ")\n",
    "def update_graph(grpname):\n",
    "    fig = make_shot_dist_chart(\n",
    "        all_teams_df[all_teams_df.group == grpname], col_col='pl_pps', range_color=[90, 120], size_col='shots_freq')\n",
    "    clean_chart_format(fig)\n",
    "    if len(grpname) > 3:\n",
    "        fig.update_layout(height=850, width=1250)\n",
    "    else:\n",
    "        fig.update_layout(height=500, width=1250)\n",
    "\n",
    "    return fig"
   ]
  },
  {
   "cell_type": "code",
   "execution_count": 62,
   "metadata": {},
   "outputs": [
    {
     "name": "stdout",
     "output_type": "stream",
     "text": [
      " * Serving Flask app \"__main__\" (lazy loading)\n",
      " * Environment: production\n",
      "   WARNING: This is a development server. Do not use it in a production deployment.\n",
      "   Use a production WSGI server instead.\n",
      " * Debug mode: off\n"
     ]
    },
    {
     "name": "stderr",
     "output_type": "stream",
     "text": [
      " * Running on http://127.0.0.1:8050/ (Press CTRL+C to quit)\n",
      "127.0.0.1 - - [04/May/2020 03:13:35] \"\u001b[37mGET / HTTP/1.1\u001b[0m\" 200 -\n",
      "127.0.0.1 - - [04/May/2020 03:13:35] \"\u001b[37mGET /_dash-layout HTTP/1.1\u001b[0m\" 200 -\n",
      "127.0.0.1 - - [04/May/2020 03:13:35] \"\u001b[37mGET /_dash-dependencies HTTP/1.1\u001b[0m\" 200 -\n",
      "127.0.0.1 - - [04/May/2020 03:13:36] \"\u001b[37mPOST /_dash-update-component HTTP/1.1\u001b[0m\" 200 -\n"
     ]
    }
   ],
   "source": [
    "# Run Local Server \n",
    "if __name__ == '__main__':\n",
    "    app.run_server(debug=False)"
   ]
  },
  {
   "cell_type": "code",
   "execution_count": null,
   "metadata": {},
   "outputs": [],
   "source": []
  }
 ],
 "metadata": {
  "kernelspec": {
   "display_name": "Python 3",
   "language": "python",
   "name": "python3"
  },
  "language_info": {
   "codemirror_mode": {
    "name": "ipython",
    "version": 3
   },
   "file_extension": ".py",
   "mimetype": "text/x-python",
   "name": "python",
   "nbconvert_exporter": "python",
   "pygments_lexer": "ipython3",
   "version": "3.7.6"
  }
 },
 "nbformat": 4,
 "nbformat_minor": 4
}
